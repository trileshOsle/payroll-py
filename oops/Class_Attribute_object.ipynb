{
 "cells": [
  {
   "cell_type": "markdown",
   "id": "36f3fee7",
   "metadata": {},
   "source": [
    "## OOP'S"
   ]
  },
  {
   "cell_type": "code",
   "execution_count": null,
   "id": "16e82e13",
   "metadata": {},
   "outputs": [],
   "source": [
    "# WHY OOP'S:?\n",
    "To group related functions(Method)\n",
    "To create a template/bluprint"
   ]
  },
  {
   "cell_type": "code",
   "execution_count": 1,
   "id": "3204302f",
   "metadata": {},
   "outputs": [
    {
     "name": "stdout",
     "output_type": "stream",
     "text": [
      "The tomcat config file is: /home/Automation/tomcat7/conf/server.xml\n",
      "The tomcat home is: /home/Automation/tomcat7\n",
      "The tomcat config file is: /home/Automation/tomcat8/conf/server.xml\n",
      "The tomcat home is: /home/Automation/tomcat8\n"
     ]
    }
   ],
   "source": [
    "import os\n",
    "\n",
    "def get_details_for_each_tomcat(server_xml):\n",
    "    tcf = server_xml\n",
    "    th = os.path.dirname(os.path.dirname(server_xml))\n",
    "    print(f\"The tomcat config file is: {tcf}\\nThe tomcat home is: {th}\")\n",
    "    return None\n",
    "\n",
    "\n",
    "\n",
    "def main():\n",
    "    tomcat7 = \"/home/Automation/tomcat7/conf/server.xml\"\n",
    "    tomcat8 = \"/home/Automation/tomcat8/conf/server.xml\"\n",
    "    get_details_for_each_tomcat(tomcat7)\n",
    "    get_details_for_each_tomcat(tomcat8)\n",
    "    return None\n",
    "\n",
    "\n",
    "\n",
    "if __name__ == '__main__':\n",
    "    main()"
   ]
  },
  {
   "cell_type": "markdown",
   "id": "189f74c1",
   "metadata": {},
   "source": [
    "## Let's add another function  call display and try to run "
   ]
  },
  {
   "cell_type": "code",
   "execution_count": 5,
   "id": "98148b53",
   "metadata": {},
   "outputs": [
    {
     "name": "stdout",
     "output_type": "stream",
     "text": [
      "The tomcat config file is: /home/Automation/tomcat7/conf/server.xml\n",
      "The tomcat home is: /home/Automation/tomcat7\n"
     ]
    }
   ],
   "source": [
    "\n",
    "def get_details_for_each_tomcat(server_xml):\n",
    "    global tcf, th\n",
    "    tcf = server_xml\n",
    "    th = os.path.dirname(os.path.dirname(server_xml))\n",
    "    return None \n",
    "    \n",
    "def display():    \n",
    "    print(f\"The tomcat config file is: {tcf}\\nThe tomcat home is: {th}\")\n",
    "    return None\n",
    "\n",
    "\n",
    "\n",
    "def main():\n",
    "    tomcat7 = \"/home/Automation/tomcat7/conf/server.xml\"\n",
    "    tomcat8 = \"/home/Automation/tomcat8/conf/server.xml\"\n",
    "    get_details_for_each_tomcat(tomcat7)\n",
    "    display()\n",
    "    get_details_for_each_tomcat(tomcat8)\n",
    "    return None\n",
    "\n",
    "\n",
    "\n",
    "if __name__ == '__main__':\n",
    "    main()"
   ]
  },
  {
   "cell_type": "markdown",
   "id": "9b04350f",
   "metadata": {},
   "source": [
    "## rightly soo b/c those variables declared can't be access outside of the function"
   ]
  },
  {
   "cell_type": "markdown",
   "id": "452756f6",
   "metadata": {},
   "source": [
    "## With OOP'S"
   ]
  },
  {
   "cell_type": "code",
   "execution_count": 19,
   "id": "beccf264",
   "metadata": {},
   "outputs": [
    {
     "name": "stdout",
     "output_type": "stream",
     "text": [
      "['__class__', '__delattr__', '__dict__', '__dir__', '__doc__', '__eq__', '__format__', '__ge__', '__getattribute__', '__gt__', '__hash__', '__init__', '__init_subclass__', '__le__', '__lt__', '__module__', '__ne__', '__new__', '__reduce__', '__reduce_ex__', '__repr__', '__setattr__', '__sizeof__', '__str__', '__subclasshook__', '__weakref__', 'display', 'get_details_for_each_tomcat', 'tcf', 'th']\n",
      "/home/Automation/tomcat7/conf/server.xml\n",
      "/home/Automation/tomcat7\n"
     ]
    }
   ],
   "source": [
    "class Tomcat(object):\n",
    "\n",
    "    def get_details_for_each_tomcat(self, server_xml): # This is no longer is func it's a method\n",
    "        self.tcf = server_xml\n",
    "        self.th = os.path.dirname(os.path.dirname(server_xml))\n",
    "        return None \n",
    "\n",
    "    def display(self):    \n",
    "        print(f\"The tomcat config file is: {self.tcf}\\nThe tomcat home is: {self.th}\")\n",
    "        return None\n",
    "\n",
    "\n",
    "\n",
    "def main():\n",
    "    tomcat7 = Tomcat() # assigning tomplate to student\n",
    "    tomcat8 = Tomcat() # assigning tomplate to student\n",
    "    \n",
    "    # Now let's create an object\n",
    "    tomcat7.get_details_for_each_tomcat(\"/home/Automation/tomcat7/conf/server.xml\")\n",
    "    # what is self\n",
    "    # tomcat7.get_details_for_each_tomcat(\"tomcat7\", \"/home/Automation/tomcat7/conf/server.xml\")\n",
    "    print(dir(tomcat7))\n",
    "    print(tomcat7.tcf)\n",
    "    print(tomcat7.th)\n",
    "\n",
    "    \n",
    "\n",
    "\n",
    "if __name__ == '__main__':\n",
    "    main()"
   ]
  },
  {
   "cell_type": "markdown",
   "id": "d232e8fc",
   "metadata": {},
   "source": [
    "## Class && object attributes"
   ]
  },
  {
   "cell_type": "code",
   "execution_count": 26,
   "id": "56713bee",
   "metadata": {},
   "outputs": [],
   "source": [
    "class Emp(object):\n",
    "    \n",
    "    def assign_name_age_salary(self, age, name, salary):\n",
    "        self.name = name\n",
    "        self.age = age\n",
    "        self.salary = salary\n",
    "        return None\n",
    "        \n",
    "    def display_details(self):\n",
    "        print(f\"The name is {self.name}\\nThe age is {self.age}\\nThe salary is {self.salary}\")\n",
    "        return None\n",
    "    \n",
    "    \n",
    "emp1 = Emp()  \n",
    "emp2 = Emp() \n",
    "emp1.assign_name_age_salary(age=34,name=\"Koji\", salary=30000)\n",
    "emp2.assign_name_age_salary(age=24,name=\"Bello\", salary=80000)\n",
    "\n",
    "        "
   ]
  },
  {
   "cell_type": "markdown",
   "id": "47fc6d30",
   "metadata": {},
   "source": [
    "## We can execute a method inside of a class "
   ]
  },
  {
   "cell_type": "code",
   "execution_count": 29,
   "id": "df7443fc",
   "metadata": {},
   "outputs": [
    {
     "name": "stdout",
     "output_type": "stream",
     "text": [
      "The name is Koji\n",
      "The age is 34\n",
      "The salary is 30000\n",
      "----------------------------------------------------------------------------------------\n",
      "The name is Bello\n",
      "The age is 24\n",
      "The salary is 80000\n"
     ]
    }
   ],
   "source": [
    "class Emp(object):\n",
    "    \n",
    "    def assign_name_age_salary(self, age, name, salary):\n",
    "        self.name = name\n",
    "        self.age = age\n",
    "        self.salary = salary\n",
    "        self.display_details()\n",
    "        return None\n",
    "        \n",
    "    def display_details(self):\n",
    "        print(f\"The name is {self.name}\\nThe age is {self.age}\\nThe salary is {self.salary}\")\n",
    "        return None\n",
    "    \n",
    "    \n",
    "emp1 = Emp()  \n",
    "emp2 = Emp() \n",
    "emp1.assign_name_age_salary(age=34,name=\"Koji\", salary=30000)\n",
    "print(\"-\"*88)\n",
    "emp2.assign_name_age_salary(age=24,name=\"Bello\", salary=80000)"
   ]
  },
  {
   "cell_type": "markdown",
   "id": "c7a41473",
   "metadata": {},
   "source": [
    "## Creating variable for class, Need to know how many times an object has been created from a class"
   ]
  },
  {
   "cell_type": "code",
   "execution_count": 31,
   "id": "ee7c39d9",
   "metadata": {},
   "outputs": [
    {
     "name": "stdout",
     "output_type": "stream",
     "text": [
      "----------------------------------------------------------------------------------------\n",
      "2\n"
     ]
    }
   ],
   "source": [
    "class Emp(object):\n",
    "    count = 0\n",
    "    \n",
    "    def assign_name_age_salary(self, age, name, salary):\n",
    "        self.name = name\n",
    "        self.age = age\n",
    "        self.salary = salary\n",
    "#         self.display_details()\n",
    "        return None\n",
    "    \n",
    "    def increase_count_for_emp(self):\n",
    "        Emp.count = Emp.count +1\n",
    "        return None\n",
    "    \n",
    "    def display_details(self):\n",
    "        print(f\"The name is {self.name}\\nThe age is {self.age}\\nThe salary is {self.salary}\")\n",
    "        return None\n",
    "    \n",
    "    \n",
    "emp1 = Emp()  \n",
    "emp2 = Emp() \n",
    "emp1.assign_name_age_salary(age=34,name=\"Koji\", salary=30000)\n",
    "emp1.increase_count_for_emp()\n",
    "print(\"-\"*88)\n",
    "emp2.assign_name_age_salary(age=24,name=\"Bello\", salary=80000)\n",
    "emp2.increase_count_for_emp()\n",
    "\n",
    "print(Emp.count)"
   ]
  },
  {
   "cell_type": "code",
   "execution_count": null,
   "id": "dba8c5fb",
   "metadata": {},
   "outputs": [],
   "source": []
  }
 ],
 "metadata": {
  "kernelspec": {
   "display_name": "Python ('a')",
   "language": "python",
   "name": "python3"
  },
  "language_info": {
   "codemirror_mode": {
    "name": "ipython",
    "version": 3
   },
   "file_extension": ".py",
   "mimetype": "text/x-python",
   "name": "python",
   "nbconvert_exporter": "python",
   "pygments_lexer": "ipython3",
   "version": ""
  },
  "vscode": {
   "interpreter": {
    "hash": "949777d72b0d2535278d3dc13498b2535136f6dfe0678499012e853ee9abcab1"
   }
  }
 },
 "nbformat": 4,
 "nbformat_minor": 5
}
