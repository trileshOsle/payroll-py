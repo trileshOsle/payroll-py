{
 "cells": [
  {
   "cell_type": "markdown",
   "id": "00a3dcf1",
   "metadata": {},
   "source": [
    "## Constructor:\n",
    "> A contructor is a special method that is being called by default whenever you initailize class"
   ]
  },
  {
   "cell_type": "code",
   "execution_count": 8,
   "id": "9601be67",
   "metadata": {},
   "outputs": [
    {
     "name": "stdout",
     "output_type": "stream",
     "text": [
      "employee first_name is: koji, employee last_name is: Bello, employee salary is: $30000,my hired date is 01-20-2018                employee id is: 1000\n"
     ]
    }
   ],
   "source": [
    "\n",
    "class Employee:\n",
    "\n",
    "    def list_of_empoyee_attr(self, first_name, last_name, salary, hired_date, employee_id):\n",
    "        self.first_name = first_name\n",
    "        self.last_name = last_name\n",
    "        self.salary = salary\n",
    "        self.hired_date = hired_date \n",
    "        self.employee_id = employee_id\n",
    "        ## calling dsiplay method\n",
    "#         self.display_employee_attr()\n",
    "        return None \n",
    "\n",
    "    def display_employee_attr(self):\n",
    "        print(f\"employee first_name is: {self.first_name}, employee last_name is: {self.last_name}, employee salary is: ${self.salary},my hired date is {self.hired_date}\\\n",
    "                employee id is: {self.employee_id}\")\n",
    "        return None         \n",
    "\n",
    "\n",
    "def main():\n",
    "    employee1 = Employee() # create an object \n",
    "    employee1.list_of_empoyee_attr(first_name=\"koji\", last_name=\"Bello\", salary=30000, hired_date=\"01-20-2018\", employee_id=1000)\n",
    "    employee1.display_employee_attr()\n",
    "if __name__ == \"__main__\":\n",
    "    main()\n",
    "\n",
    "    "
   ]
  },
  {
   "cell_type": "markdown",
   "id": "82d0f2c0",
   "metadata": {},
   "source": [
    "## Using constructor to improve our function"
   ]
  },
  {
   "cell_type": "code",
   "execution_count": 20,
   "id": "9cb8c1a5",
   "metadata": {},
   "outputs": [
    {
     "name": "stdout",
     "output_type": "stream",
     "text": [
      "employee first name is: Koji, employee last name is: Bello, emoployee salary is: $40000\n"
     ]
    }
   ],
   "source": [
    "\n",
    "class Employee:\n",
    "    \n",
    "    # we are creating a constructor \n",
    "    def __init__(self, first_name, last_name, salary):\n",
    "        self.first_name = first_name \n",
    "        self.last_name = last_name \n",
    "        self.salary = salary \n",
    "        return None\n",
    "    \n",
    "    def display(self):\n",
    "        print(f\"employee first name is: {self.first_name}, employee last name is: {self.last_name}, emoployee salary is: ${self.salary}\")\n",
    "        return None \n",
    "\n",
    "        \n",
    "def main():\n",
    "#     emp1 = Employee(first_name=\"Koji\", last_name=\"Bello\", salary=40000)\n",
    "    employee = Employee(first_name=\"Koji\", last_name=\"Bello\", salary=40000)\n",
    "    employee.display()\n",
    "        \n",
    "        \n",
    "if __name__ == \"__main__\":\n",
    "    main()"
   ]
  },
  {
   "cell_type": "code",
   "execution_count": 28,
   "id": "60b90c02",
   "metadata": {},
   "outputs": [
    {
     "name": "stdout",
     "output_type": "stream",
     "text": [
      "animals can eat, animal can shi, animals can  walk, animals can sleep\n"
     ]
    }
   ],
   "source": [
    "# create a class and call it Animal, \n",
    "# it should contain one magic method which stores all attributes of the Animal class: eat, shit, walk, sleep     \n",
    "# also create a display method to display a any damn message.\n",
    "\n",
    "class Animal:\n",
    "    def __init__(self, eat, shit, walk, sleep):\n",
    "        self.eat = eat\n",
    "        self.shit = shit\n",
    "        self.walk = walk\n",
    "        self.sleep = sleep\n",
    "        return None\n",
    "\n",
    "    def display(self):\n",
    "        print(f\"animals can {self.eat}, animal can {self.shit}, animals can  {self.walk}, animals can {self.sleep}\")\n",
    "        return None\n",
    "\n",
    "    \n",
    "def main():   \n",
    "    animal_campaign = Animal(eat=\"eat\", shit=\"shi\", walk=\"walk\", sleep=\"sleep\") \n",
    "    animal_campaign.display()           \n",
    "\n",
    "if __name__ == \"__main__\":\n",
    "    main()\n"
   ]
  },
  {
   "cell_type": "code",
   "execution_count": 27,
   "id": "faf8a315",
   "metadata": {},
   "outputs": [],
   "source": [
    "# Dog\n",
    "# Cat\n",
    "# Bat\n",
    "# Man "
   ]
  },
  {
   "cell_type": "markdown",
   "id": "c8b5a149",
   "metadata": {},
   "source": [
    "## python Fundamental last topic within OOPs: inheritance"
   ]
  },
  {
   "cell_type": "code",
   "execution_count": 41,
   "id": "7b754e6e",
   "metadata": {},
   "outputs": [
    {
     "name": "stdout",
     "output_type": "stream",
     "text": [
      "animals can eat, animal can shi, animals can  walk, animals can sleep\n"
     ]
    }
   ],
   "source": [
    "# Animal is the parant class:\n",
    "class Animal:\n",
    "    def __init__(self, eat, shit, walk, sleep):\n",
    "        self.eat = eat\n",
    "        self.shit = shit\n",
    "        self.walk = walk\n",
    "        self.sleep = sleep\n",
    "        return None\n",
    "\n",
    "    def display(self):\n",
    "        print(f\"animals can {self.eat}, animal can {self.shit}, animals can  {self.walk}, animals can {self.sleep}\")\n",
    "        return None\n",
    "    \n",
    "# Dog is the child class:     \n",
    "class Dog(Animal):\n",
    "\n",
    "    def __init__(self):\n",
    "        print(\"Hello, i'm a Dog, and i can Bark\") # \n",
    "        super().__init__(self, eat, shit, walk, sleep)\n",
    "        return None    \n",
    "\n",
    "class Bat:\n",
    "    \n",
    "    def __init__(self):\n",
    "        print(\"Hello, i'm a Bat, and i fly\")\n",
    "        return None  \n",
    "    \n",
    "class Man:\n",
    "    \n",
    "    def __init__(self):\n",
    "        print(\"Hello, i'm a Man, and i can speak\")\n",
    "        return None    \n",
    "    \n",
    "def main():   \n",
    "    animal_campaign = Animal(eat=\"eat\", shit=\"shi\", walk=\"walk\", sleep=\"sleep\") \n",
    "    animal_campaign.display()    \n",
    "\n",
    "    ## creating an object from dog\n",
    "    \n",
    "    \n",
    "\n",
    "    \n",
    "if __name__ == \"__main__\":\n",
    "    main()\n"
   ]
  },
  {
   "cell_type": "code",
   "execution_count": 42,
   "id": "4c2d1a61",
   "metadata": {},
   "outputs": [],
   "source": []
  },
  {
   "cell_type": "code",
   "execution_count": 48,
   "id": "5f146195",
   "metadata": {},
   "outputs": [
    {
     "name": "stdout",
     "output_type": "stream",
     "text": [
      "I can bark\n",
      "I can eat\n"
     ]
    }
   ],
   "source": [
    "\n",
    "# Parent class \n",
    "class Animal:\n",
    "    \n",
    "    def eat(self):\n",
    "        print(\"I can eat\")\n",
    "        return None\n",
    "    \n",
    "    \n",
    "# Child Class     \n",
    "class Dog(Animal):\n",
    "    \n",
    "    def bark(self):\n",
    "        print(\"I can bark\")\n",
    "        return None\n",
    "\n",
    "    \n",
    "dog = Dog() \n",
    "dog.bark()\n",
    "dog.eat()  \n",
    "    \n",
    "    "
   ]
  },
  {
   "cell_type": "code",
   "execution_count": null,
   "id": "71a07431",
   "metadata": {},
   "outputs": [],
   "source": []
  },
  {
   "cell_type": "code",
   "execution_count": null,
   "id": "63e7d8ce",
   "metadata": {},
   "outputs": [],
   "source": []
  },
  {
   "cell_type": "code",
   "execution_count": null,
   "id": "fb4213ba",
   "metadata": {},
   "outputs": [],
   "source": []
  },
  {
   "cell_type": "code",
   "execution_count": null,
   "id": "d2014818",
   "metadata": {},
   "outputs": [],
   "source": []
  },
  {
   "cell_type": "code",
   "execution_count": null,
   "id": "790bd4a5",
   "metadata": {},
   "outputs": [],
   "source": []
  },
  {
   "cell_type": "code",
   "execution_count": null,
   "id": "d8ee287a",
   "metadata": {},
   "outputs": [],
   "source": [
    "\n",
    "\n",
    "\n"
   ]
  },
  {
   "cell_type": "code",
   "execution_count": null,
   "id": "b4847e36",
   "metadata": {},
   "outputs": [],
   "source": []
  }
 ],
 "metadata": {
  "kernelspec": {
   "display_name": "Python 3 (ipykernel)",
   "language": "python",
   "name": "python3"
  },
  "language_info": {
   "codemirror_mode": {
    "name": "ipython",
    "version": 3
   },
   "file_extension": ".py",
   "mimetype": "text/x-python",
   "name": "python",
   "nbconvert_exporter": "python",
   "pygments_lexer": "ipython3",
   "version": "3.9.12"
  }
 },
 "nbformat": 4,
 "nbformat_minor": 5
}
