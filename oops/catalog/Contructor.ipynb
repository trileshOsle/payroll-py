{
 "cells": [
  {
   "cell_type": "markdown",
   "id": "b9d3f497",
   "metadata": {},
   "source": [
    "## Constructor: \n",
    "> A constructor is a special method that is called by default whenever you create an object from a class:"
   ]
  },
  {
   "cell_type": "code",
   "execution_count": null,
   "id": "2514f23b",
   "metadata": {},
   "outputs": [],
   "source": [
    "#  We want to create one class/Template that would store employees details\n",
    "\n",
    "class Employee:\n",
    "    \n",
    "    def __init__(self, name, age,salary, employee_id):\n",
    "        self.name = name\n",
    "        self.age = age  \n",
    "        self.salary = salary \n",
    "        self.employee_id = employee_id\n",
    "        return None\n",
    "\n",
    "\n",
    "\n",
    "    def display(self): # this is method two. # Display func doesn't have any variable \n",
    "    \n",
    "        print(f\"The employee name is: {self.name}\\tand The employee age is: {self.age}\\tand The employee salary is: ${ self.salary}\\tand employee id is : {self.employee_id }\")\n",
    "        return None\n",
    "\n",
    "\n",
    "\n",
    "def main():\n",
    "    # need to create an object out of our employee template. \n",
    "    emp1 = Employee(name=\"Ruchiii\", age=26, salary=45000, employee_id=100)\n",
    "    emp1.display()\n",
    "\n",
    "\n",
    "if __name__ == \"__main__\":\n",
    "    main()\n",
    "\n",
    "\n",
    "\n"
   ]
  },
  {
   "cell_type": "markdown",
   "id": "ea4d5bfb",
   "metadata": {},
   "source": [
    "The employee name is: Ruchiii\tand The employee age is: 25\tand The employee salary is: $45000\tand employee id is : 100"
   ]
  }
 ],
 "metadata": {
  "kernelspec": {
   "display_name": "Python 3 (ipykernel)",
   "language": "python",
   "name": "python3"
  },
  "language_info": {
   "codemirror_mode": {
    "name": "ipython",
    "version": 3
   },
   "file_extension": ".py",
   "mimetype": "text/x-python",
   "name": "python",
   "nbconvert_exporter": "python",
   "pygments_lexer": "ipython3",
   "version": ""
  },
  "vscode": {
   "interpreter": {
    "hash": "949777d72b0d2535278d3dc13498b2535136f6dfe0678499012e853ee9abcab1"
   }
  }
 },
 "nbformat": 4,
 "nbformat_minor": 5
}
