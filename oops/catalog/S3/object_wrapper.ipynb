{
 "cells": [
  {
   "cell_type": "code",
   "execution_count": null,
   "id": "9c86f0ab",
   "metadata": {},
   "outputs": [],
   "source": []
  },
  {
   "cell_type": "code",
   "execution_count": null,
   "id": "9a319c1d",
   "metadata": {},
   "outputs": [],
   "source": [
    "import json\n",
    "import logging\n",
    "import random\n",
    "import uuid\n",
    "\n",
    "import boto3\n",
    "from botocore.exceptions import ClientError\n",
    "s3 = boto3.resource('s3')\n",
    "\n",
    "\n",
    "logger = logging.getLogger(__name__)\n",
    "\n",
    "\n",
    "class ObjectWrapper(object):\n",
    "    \n",
    "    \"\"\"Encapsulates S3 object actions.\"\"\"\n",
    "    def __init__(self, s3_object):\n",
    "        \"\"\"\n",
    "        :param s3_object: A Boto3 Object resource. This is a high-level resource in Boto3\n",
    "                          that wraps object actions in a class-like structure.\n",
    "        \"\"\"\n",
    "        self.object = s3_object\n",
    "        self.key = self.object.key\n",
    "        return None \n",
    "    \n",
    "    def put(self, data):\n",
    "        \"\"\"\n",
    "        Upload data ti the object.\n",
    "        \"\"\"\n",
    "        put_data = data\n",
    "        if isinstance(data, str):\n",
    "            try:\n",
    "                put_data = open(data, 'rb')\n",
    "            except IOError:\n",
    "                logger.exception(\"Expected file name or binary data, got '%s'.\", data)\n",
    "                raise   \n",
    "        try:\n",
    "            self.object.put(Body=put_data)\n",
    "            self.object.wait_until_exists()\n",
    "        except ClientError:\n",
    "            logger.exception(\n",
    "             \"Couldn't put object '%s' to bucket '%s'.\", self.object.key,\n",
    "                self.object.bucket_name\n",
    "            )            \n",
    "        finally:\n",
    "            if getattr(put_data, 'close', None):\n",
    "                put_data.close()\n",
    "                \n",
    "\n",
    "def main():\n",
    "    bucket = s3.Bucket('pandan.lambdaa')\n",
    "    object_key = 'doc-example-object'\n",
    "    objectwrapper = ObjectWrapper(bucket.Object(object_key))\n",
    "    objectwrapper.put(__file__)\n",
    "\n",
    "if __name__ == \"__main__\":\n",
    "    main()\n",
    "    "
   ]
  },
  {
   "cell_type": "code",
   "execution_count": null,
   "id": "88ac1170",
   "metadata": {},
   "outputs": [],
   "source": []
  },
  {
   "cell_type": "code",
   "execution_count": null,
   "id": "2d95763f",
   "metadata": {},
   "outputs": [],
   "source": []
  }
 ],
 "metadata": {
  "kernelspec": {
   "display_name": "Python 3 (ipykernel)",
   "language": "python",
   "name": "python3"
  },
  "language_info": {
   "codemirror_mode": {
    "name": "ipython",
    "version": 3
   },
   "file_extension": ".py",
   "mimetype": "text/x-python",
   "name": "python",
   "nbconvert_exporter": "python",
   "pygments_lexer": "ipython3",
   "version": "3.9.12"
  }
 },
 "nbformat": 4,
 "nbformat_minor": 5
}
